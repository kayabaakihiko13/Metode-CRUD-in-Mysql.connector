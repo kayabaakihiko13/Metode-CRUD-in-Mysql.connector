{
 "cells": [
  {
   "cell_type": "code",
   "execution_count": 1,
   "metadata": {},
   "outputs": [],
   "source": [
    "import mysql.connector"
   ]
  },
  {
   "cell_type": "code",
   "execution_count": 2,
   "metadata": {},
   "outputs": [],
   "source": [
    "# class Database\n",
    "class Database:\n",
    "    my_db=my_cursor=None\n",
    "    def __init__(self):\n",
    "        global my_db,my_cursor\n",
    "        my_db=mysql.connector.connect(host='localhost',user='root',password='',database='test')\n",
    "        my_cursor=my_db.cursor()\n",
    "    def __del__(self):\n",
    "        my_db.commit()"
   ]
  },
  {
   "cell_type": "code",
   "execution_count": 46,
   "metadata": {},
   "outputs": [],
   "source": [
    "# class for input\n",
    "class memo(Database):\n",
    "    # buat show by iD:\n",
    "    def show_id(self):\n",
    "        sql=\"SELECT * FROM list_anime ORDER BY name_anime\"\n",
    "        try:\n",
    "            my_cursor.execute(sql)\n",
    "            result=my_cursor.fetchall()\n",
    "\n",
    "        except Exception as e :\n",
    "            return e\n",
    "        return result\n",
    "\n",
    "    # buat insert anime\n",
    "    def insert_anime(self,data):\n",
    "        sql=(\"INSERT INTO list_anime (name_anime,genre,season,ranting) VALUES (%s,%s,%s,%s)\")\n",
    "        try:\n",
    "            my_cursor.execute(sql,data)\n",
    "            my_db.commit()\n",
    "            print(my_cursor.rowcount,\"data telah di commit\")\n",
    "        except Exception as E:\n",
    "            return E\n",
    "        my_cursor.lastrowid  \n",
    "    def insert_anime_many(self,data):\n",
    "        sql=\"INSERT INTO list_anime (name_anime,genre,season,ranting) VALUES (%s,%s,%s,%s)\"\n",
    "        try:\n",
    "            my_cursor.executemany(sql,data)\n",
    "            my_db.commit()\n",
    "            print(my_cursor.rowcount,\"data telah di commit\")\n",
    "        except Exception as E:\n",
    "            return E"
   ]
  },
  {
   "cell_type": "code",
   "execution_count": 47,
   "metadata": {},
   "outputs": [],
   "source": [
    "saving=memo()"
   ]
  },
  {
   "cell_type": "code",
   "execution_count": 44,
   "metadata": {},
   "outputs": [
    {
     "name": "stdout",
     "output_type": "stream",
     "text": [
      "1 data telah di commit\n"
     ]
    }
   ],
   "source": [
    "data=('Sword Art Online',\"Action,Fantasy,sci-Fic\",\"Summer\",\"7.20\")\n",
    "saving.insert_anime(data)"
   ]
  },
  {
   "cell_type": "code",
   "execution_count": 6,
   "metadata": {},
   "outputs": [
    {
     "name": "stdout",
     "output_type": "stream",
     "text": [
      "2 data telah di commit\n"
     ]
    }
   ],
   "source": [
    "data2d=[(\"vivy fluorite eye's song\",\"Action, Sci-Fi, Suspense\",\"Spring 2021\",\"8.46\"),\n",
    "(\"Eighty Six\",\"Action, Drama, Sci-Fi\",\"Spring 2021\",\"8.72\")]\n",
    "\n",
    "saving.insert_anime_many(data2d)"
   ]
  },
  {
   "cell_type": "code",
   "execution_count": 48,
   "metadata": {},
   "outputs": [
    {
     "data": {
      "text/plain": [
       "mysql.connector.errors.ProgrammingError(1054,\n",
       "                                        \"1054 (42S22): Unknown column 'id_animeDESC' in 'order clause'\",\n",
       "                                        '42S22')"
      ]
     },
     "execution_count": 48,
     "metadata": {},
     "output_type": "execute_result"
    }
   ],
   "source": [
    "saving.show_id()"
   ]
  },
  {
   "cell_type": "code",
   "execution_count": null,
   "metadata": {},
   "outputs": [],
   "source": []
  },
  {
   "cell_type": "code",
   "execution_count": null,
   "metadata": {},
   "outputs": [],
   "source": []
  }
 ],
 "metadata": {
  "interpreter": {
   "hash": "4d92d0672265a1f596c4af97ef32a2cdda6abc1f152a825959aa64a1f347483d"
  },
  "kernelspec": {
   "display_name": "Python 3.9.10 64-bit",
   "language": "python",
   "name": "python3"
  },
  "language_info": {
   "codemirror_mode": {
    "name": "ipython",
    "version": 3
   },
   "file_extension": ".py",
   "mimetype": "text/x-python",
   "name": "python",
   "nbconvert_exporter": "python",
   "pygments_lexer": "ipython3",
   "version": "3.9.10"
  },
  "orig_nbformat": 4
 },
 "nbformat": 4,
 "nbformat_minor": 2
}
